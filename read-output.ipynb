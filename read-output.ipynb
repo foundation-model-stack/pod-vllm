{
 "cells": [
  {
   "cell_type": "code",
   "execution_count": 5,
   "id": "099bfbe1-3e31-4d2b-b567-fabc0adf7b76",
   "metadata": {},
   "outputs": [],
   "source": [
    "fname = \"/Users/tmhoangt/Codes.IBM/on-prem-AI/wikihow.jsonl__1001_100.txt\""
   ]
  },
  {
   "cell_type": "code",
   "execution_count": 2,
   "id": "fdbc16b4-e802-4ea6-adae-0b292eaf219a",
   "metadata": {},
   "outputs": [],
   "source": [
    "#fname = \"/Users/tmhoangt/Downloads/exchange_instructions_input_output_formatted.jsonl\""
   ]
  },
  {
   "cell_type": "code",
   "execution_count": 3,
   "id": "c74333cb-cdf5-401b-ae32-8dc6cec6d07c",
   "metadata": {},
   "outputs": [],
   "source": [
    "import pandas as pd\n",
    "\n",
    "data =pd.read_json(path_or_buf=fname, lines=True)"
   ]
  },
  {
   "cell_type": "code",
   "execution_count": 4,
   "id": "7225d86a-185c-4729-9d2f-29a27804ec71",
   "metadata": {},
   "outputs": [
    {
     "data": {
      "text/plain": [
       "Index(['prompt', 'seed_data', 'format', 'response'], dtype='object')"
      ]
     },
     "execution_count": 4,
     "metadata": {},
     "output_type": "execute_result"
    }
   ],
   "source": [
    "data.columns"
   ]
  },
  {
   "cell_type": "code",
   "execution_count": 9,
   "id": "831cf73d-a7f8-49a9-9eaa-e7733906a127",
   "metadata": {},
   "outputs": [
    {
     "data": {
      "text/html": [
       "<div>\n",
       "<style scoped>\n",
       "    .dataframe tbody tr th:only-of-type {\n",
       "        vertical-align: middle;\n",
       "    }\n",
       "\n",
       "    .dataframe tbody tr th {\n",
       "        vertical-align: top;\n",
       "    }\n",
       "\n",
       "    .dataframe thead th {\n",
       "        text-align: right;\n",
       "    }\n",
       "</style>\n",
       "<table border=\"1\" class=\"dataframe\">\n",
       "  <thead>\n",
       "    <tr style=\"text-align: right;\">\n",
       "      <th></th>\n",
       "      <th>prompt</th>\n",
       "      <th>seed_data</th>\n",
       "      <th>format</th>\n",
       "      <th>response</th>\n",
       "    </tr>\n",
       "  </thead>\n",
       "  <tbody>\n",
       "    <tr>\n",
       "      <th>0</th>\n",
       "      <td>Write a long and very detailed tutorial on \"Be...</td>\n",
       "      <td>wikihow_original</td>\n",
       "      <td>wikihow</td>\n",
       "      <td>\\nBecome an Organ Donor in the UK: A Step-by-...</td>\n",
       "    </tr>\n",
       "    <tr>\n",
       "      <th>1</th>\n",
       "      <td>Write a long and very detailed tutorial on \"He...</td>\n",
       "      <td>wikihow_original</td>\n",
       "      <td>wikihow</td>\n",
       "      <td>\\n\\n**Warning: This article contains sensitiv...</td>\n",
       "    </tr>\n",
       "  </tbody>\n",
       "</table>\n",
       "</div>"
      ],
      "text/plain": [
       "                                              prompt         seed_data  \\\n",
       "0  Write a long and very detailed tutorial on \"Be...  wikihow_original   \n",
       "1  Write a long and very detailed tutorial on \"He...  wikihow_original   \n",
       "\n",
       "    format                                           response  \n",
       "0  wikihow   \\nBecome an Organ Donor in the UK: A Step-by-...  \n",
       "1  wikihow   \\n\\n**Warning: This article contains sensitiv...  "
      ]
     },
     "execution_count": 9,
     "metadata": {},
     "output_type": "execute_result"
    }
   ],
   "source": [
    "data.head(2)"
   ]
  },
  {
   "cell_type": "code",
   "execution_count": 6,
   "id": "a69635b3-6605-4ccd-9d4d-71781592fef0",
   "metadata": {},
   "outputs": [
    {
     "name": "stdout",
     "output_type": "stream",
     "text": [
      "Write a long and very detailed tutorial on \"Change Your Password on TikTok\", in the style of WikiHow. Include in depth explanations for each step and how it helps achieve the desired outcome, inluding key tips and guidelines. Ensure clarity and practicality, allowing readers to easily follow and apply the instructions. Do not use images.\n",
      "\n",
      "====ANSWER:====\n",
      "\n",
      " \n",
      "\n",
      "How to Change Your Password on TikTok: A Step-by-Step Guide\n",
      "================================================================\n",
      "\n",
      "Changing your password on TikTok is a crucial step in maintaining the security and integrity of your account. Whether you've forgotten your current password, want to strengthen your account security, or suspect unauthorized access, updating your password is a straightforward process that can be completed in a few simple steps. In this comprehensive guide, we will walk you through the process of changing your password on TikTok, providing key explanations, tips, and guidelines to ensure a seamless experience.\n",
      "\n",
      "**Step 1: Open the TikTok App**\n",
      "-----------------------------\n",
      "\n",
      "To begin, locate the TikTok app on your mobile device and tap to open it. Make sure you have the latest version of the app installed to avoid any compatibility issues or potential security vulnerabilities. If you're using an outdated version, update the app before proceeding.\n",
      "\n",
      "**Step 2: Access Your Profile**\n",
      "---------------------------\n",
      "\n",
      "Once the app is open, navigate to your profile by tapping the \"Me\" icon (represented by a person) at the bottom-right corner of the screen. This will take you to your profile page, where you can manage your account settings.\n",
      "\n",
      "**Step 3: Tap the Three Dots**\n",
      "---------------------------\n",
      "\n",
      "On your profile page, tap the three dots (\"...\") at the top-right corner of the screen. This will open a dropdown menu with various options for managing your account.\n",
      "\n",
      "**Step 4: Select \"Manage My Account\"**\n",
      "--------------------------------\n",
      "\n",
      "From the dropdown menu, select \"Manage My Account\" (represented by a gear icon). This will take you to a new page where you can manage your account settings, including changing your password.\n",
      "\n",
      "**Step 5: Tap \"Password\"**\n",
      "-----------------------\n",
      "\n",
      "On the \"Manage My Account\" page, scroll down to the \"Account\" section and tap \"Password.\" This will open a new page where you can update your password.\n",
      "\n",
      "**Step 6: Enter Your Current Password**\n",
      "---------------------------------\n",
      "\n",
      "To change your password, you will first need to enter your current password in the \"Current Password\" field. This is a security measure to verify your identity and prevent unauthorized access to your account. Type your current password carefully, as incorrect entries may result in account lockouts or additional security measures.\n",
      "\n",
      "**Step 7: Create a New Password**\n",
      "-----------------------------\n",
      "\n",
      "In the \"New Password\" field, enter a strong and unique password that meets TikTok's password requirements. When choosing a new password, consider the following guidelines:\n",
      "\n",
      "*   Use a minimum of 8 characters, including letters, numbers, and special characters.\n",
      "*   Avoid using easily guessable information, such as your name, birthdate, or common words.\n",
      "*   Don't reuse passwords from other accounts or apps.\n",
      "*   Consider using a password manager to generate and store complex, unique passwords.\n",
      "\n",
      "**Step 8: Confirm Your New Password**\n",
      "---------------------------------\n",
      "\n",
      "To ensure accuracy, re-enter your new password in the \"Confirm Password\" field. This helps prevent typos or incorrect password entries.\n",
      "\n",
      "**Step 9: Tap \"Next\"**\n",
      "---------------------\n",
      "\n",
      "Once you've entered and confirmed your new password, tap the \"Next\" button.\n",
      "\n",
      "**Step 10: Review and Save**\n",
      "---------------------------\n",
      "\n",
      "Review your password update to ensure everything is correct. If you're satisfied with the changes, tap \"Save\" to update your password.\n",
      "\n",
      "**Additional Tips and Security Measures**\n",
      "-----------------------------------------\n",
      "\n",
      "To maintain the security and integrity of your TikTok account, consider the following tips and guidelines:\n",
      "\n",
      "*   Update your password regularly (every 60-90 days) to minimize the risk of unauthorized access.\n",
      "*   Use two-factor authentication (2FA) whenever possible to add an additional layer of security.\n",
      "*   Monitor your account activity regularly to detect potential security breaches.\n",
      "*   Avoid sharing your password with others or using public computers to access your account.\n",
      "\n",
      "By following these steps and guidelines, you can securely change your password on TikTok and maintain the integrity of your account. If you encounter any issues or have further questions, you can visit TikTok's support page or contact their customer service team for assistance.\n"
     ]
    }
   ],
   "source": [
    "mstr= data[['prompt', 'response']].iloc[20]\n",
    "print(mstr['prompt'])\n",
    "print(\"\\n====ANSWER:====\\n\")\n",
    "print(mstr['response'])\n"
   ]
  },
  {
   "cell_type": "code",
   "execution_count": null,
   "id": "e2fdae89-29c1-41e9-b746-c3c92f6f0472",
   "metadata": {},
   "outputs": [],
   "source": []
  }
 ],
 "metadata": {
  "kernelspec": {
   "display_name": "Python 3 (ipykernel)",
   "language": "python",
   "name": "python3"
  },
  "language_info": {
   "codemirror_mode": {
    "name": "ipython",
    "version": 3
   },
   "file_extension": ".py",
   "mimetype": "text/x-python",
   "name": "python",
   "nbconvert_exporter": "python",
   "pygments_lexer": "ipython3",
   "version": "3.11.4"
  }
 },
 "nbformat": 4,
 "nbformat_minor": 5
}
